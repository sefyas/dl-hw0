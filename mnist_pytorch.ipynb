{
  "nbformat": 4,
  "nbformat_minor": 0,
  "metadata": {
    "colab": {
      "name": "CSE599G1-hw0-mnist_pytorch.ipynb",
      "version": "0.3.2",
      "provenance": [],
      "collapsed_sections": []
    },
    "kernelspec": {
      "name": "python3",
      "display_name": "Python 3"
    },
    "accelerator": "GPU"
  },
  "cells": [
    {
      "metadata": {
        "id": "6QA1D6eIszX_",
        "colab_type": "text"
      },
      "cell_type": "markdown",
      "source": [
        "# Part 0: Initial setup\n",
        "\n",
        "To enable GPU:\n",
        "1.   Click Edit -> Notebook settings\n",
        "2.   Under Hardware Accelerator select GPU\n",
        "3.   On the right side of this page, click connect to a hosted runtime\n",
        "\n",
        "\n",
        "If you ever see an error about needing third-party cookies enabled, you can disable blocking them or whitelist them.\n",
        "Here is a simple way to whitelist (in chrome)\n",
        "\n",
        "For old chrome:\n",
        "1.   Goto chrome://settings/content/cookies>search=cookie\n",
        "2.   Uncheck \"Block third-party cookies\" or\n",
        "3.   Click Add next to Allow and type https://[*.]googleusercontent.com:443\n",
        "\n",
        "For new chrome:\n",
        "1.   Goto settings and search \"cookie\"\n",
        "2.   Click the \"content settings\" button\n",
        "3.   Follow steps 2 or 3 from above\n",
        "---\n",
        "\n"
      ]
    },
    {
      "metadata": {
        "id": "DHxEgxT6YwR8",
        "colab_type": "code",
        "outputId": "dd6145c2-5b78-4878-c247-befc074d8d94",
        "colab": {
          "base_uri": "https://localhost:8080/",
          "height": 122
        }
      },
      "cell_type": "code",
      "source": [
        "# This shows how to connect your google drive account with a colab instance. It's pretty easy.\n",
        "# Load the Drive helper and mount\n",
        "from google.colab import drive\n",
        "\n",
        "# This will prompt for authorization.\n",
        "drive.mount('/gdrive/')\n",
        "# Create a directory and mount Google Drive using that directory.\n"
      ],
      "execution_count": 1,
      "outputs": [
        {
          "output_type": "stream",
          "text": [
            "Go to this URL in a browser: https://accounts.google.com/o/oauth2/auth?client_id=947318989803-6bn6qk8qdgf4n4g3pfee6491hc0brc4i.apps.googleusercontent.com&redirect_uri=urn%3Aietf%3Awg%3Aoauth%3A2.0%3Aoob&scope=email%20https%3A%2F%2Fwww.googleapis.com%2Fauth%2Fdocs.test%20https%3A%2F%2Fwww.googleapis.com%2Fauth%2Fdrive%20https%3A%2F%2Fwww.googleapis.com%2Fauth%2Fdrive.photos.readonly%20https%3A%2F%2Fwww.googleapis.com%2Fauth%2Fpeopleapi.readonly&response_type=code\n",
            "\n",
            "Enter your authorization code:\n",
            "··········\n",
            "Mounted at /gdrive/\n"
          ],
          "name": "stdout"
        }
      ]
    },
    {
      "metadata": {
        "id": "Gv3f_-svjwm6",
        "colab_type": "text"
      },
      "cell_type": "markdown",
      "source": [
        "# Drive not connecting after it seemed like it worked before?\n",
        "1. First try restarting the runtime via Runtime -> Restart Runtime\n",
        "2. Then try to run the above again.\n",
        "3. If this still doesn't work, call Reset All Runtimes. This is the nuclear option that will delete all your data not saved on your personal drive account, and will erase everything you installed.\n"
      ]
    },
    {
      "metadata": {
        "id": "Ae5vt-EyTl-9",
        "colab_type": "code",
        "outputId": "f00d8e60-1ed4-4869-b9e7-6809f33a25de",
        "colab": {
          "base_uri": "https://localhost:8080/",
          "height": 187
        }
      },
      "cell_type": "code",
      "source": [
        "# Now let's test that Google Drive is up and running. \n",
        "# You may have to change \"My Drive\" if you have renamed it something else.\n",
        "!ls \"/gdrive/My Drive\"\n",
        "\n",
        "with open('/gdrive/My Drive/foo.txt', 'w') as f:\n",
        "  f.write('Hello Google Drive!')\n",
        "!cat \"/gdrive/My Drive/foo.txt\"\n",
        "!rm \"/gdrive/My Drive/foo.txt\""
      ],
      "execution_count": 2,
      "outputs": [
        {
          "output_type": "stream",
          "text": [
            " Awards\t\t\t\t      Notability\n",
            " AWSEducate-agreement.gdoc\t      PhDPlanning.gsheet\n",
            " colab_files\t\t\t      Readings\n",
            "'Colab Notebooks'\t\t      Reimbursements\n",
            "'Courses & Skills'\t\t     'Research Group Operations'\n",
            "'CSE Operation'\t\t\t     'Research Training'\n",
            " einsianATcsDOTwashingtonDOTedu.rtf  'Time Management'\n",
            "'Make4All Lab'\t\t\t     'UW Projects'\n",
            " MedProctor-agreement\n",
            "Hello Google Drive!"
          ],
          "name": "stdout"
        }
      ]
    },
    {
      "metadata": {
        "id": "oINm7sOOdpaL",
        "colab_type": "code",
        "outputId": "0dc6229b-98d7-4e86-e21e-baa29b2fc17e",
        "colab": {
          "base_uri": "https://localhost:8080/",
          "height": 88
        }
      },
      "cell_type": "code",
      "source": [
        "# This is code to download and install pytorch\n",
        "from os import path\n",
        "from wheel.pep425tags import get_abbr_impl, get_impl_ver, get_abi_tag\n",
        "platform = '{}{}-{}'.format(get_abbr_impl(), get_impl_ver(), get_abi_tag())\n",
        "\n",
        "accelerator = 'cu80' if path.exists('/opt/bin/nvidia-smi') else 'cpu'\n",
        "\n",
        "!pip install -q http://download.pytorch.org/whl/{accelerator}/torch-0.4.1-{platform}-linux_x86_64.whl torchvision\n",
        "  \n",
        "import torch\n",
        "print('Version', torch.__version__)\n",
        "print('CUDA enabled:', torch.cuda.is_available())\n",
        "  \n",
        "# NOTE: This one takes a while the first time you run it, and you will likely see \n",
        "# tcmalloc: large alloc 1073750016 bytes == 0x5c54a000 @ or something similar.\n",
        "# It should then print out:\n",
        "# Version 0.4.1\n",
        "# CUDA enabled: True"
      ],
      "execution_count": 3,
      "outputs": [
        {
          "output_type": "stream",
          "text": [
            "tcmalloc: large alloc 1073750016 bytes == 0x56642000 @  0x7fd69db062a4 0x594e17 0x626104 0x51190a 0x4f5277 0x510c78 0x5119bd 0x4f5277 0x4f3338 0x510fb0 0x5119bd 0x4f5277 0x4f3338 0x510fb0 0x5119bd 0x4f5277 0x4f3338 0x510fb0 0x5119bd 0x4f6070 0x510c78 0x5119bd 0x4f5277 0x4f3338 0x510fb0 0x5119bd 0x4f6070 0x4f3338 0x510fb0 0x5119bd 0x4f6070\n",
            "Version 0.4.1\n",
            "CUDA enabled: True\n"
          ],
          "name": "stdout"
        }
      ]
    },
    {
      "metadata": {
        "id": "lrYXOGpsM6TV",
        "colab_type": "code",
        "colab": {}
      },
      "cell_type": "code",
      "source": [
        "# Define some useful save and restoring functions. \n",
        "# You can thank your TAs for providing this code, \n",
        "# it will probably be useful for you in the future as well.\n",
        "import torch\n",
        "import torch.nn as nn\n",
        "import numpy as np\n",
        "import os\n",
        "class pt_util(object):\n",
        "    @staticmethod\n",
        "    # This does more than the simple Pytorch restore. It checks that the names \n",
        "    # of variables match, and if they don't doesn't throw a fit. It is similar \n",
        "    # to how Caffe acts. This is especially useful if you decide to change your\n",
        "    # network architecture but don't want to retrain from scratch.\n",
        "    def restore(net, save_file):\n",
        "        net_state_dict = net.state_dict()\n",
        "        restore_state_dict = torch.load(save_file)\n",
        "\n",
        "        restored_var_names = set()\n",
        "\n",
        "        print('Restoring:')\n",
        "        for var_name in restore_state_dict.keys():\n",
        "            if var_name in net_state_dict:\n",
        "                var_size = net_state_dict[var_name].size()\n",
        "                restore_size = restore_state_dict[var_name].size()\n",
        "                if var_size != restore_size:\n",
        "                    print('Shape mismatch for var', var_name, 'expected', var_size, 'got', restore_size)\n",
        "                else:\n",
        "                    if isinstance(net_state_dict[var_name], torch.nn.Parameter):\n",
        "                        # backwards compatibility for serialized parameters\n",
        "                        net_state_dict[var_name] = restore_state_dict[var_name].data\n",
        "                    try:\n",
        "                        net_state_dict[var_name].copy_(restore_state_dict[var_name])\n",
        "                        print(str(var_name) + ' -> \\t' + str(var_size) + ' = ' + str(int(np.prod(var_size) * 4 / 10**6)) + 'MB')\n",
        "                        restored_var_names.add(var_name)\n",
        "                    except:\n",
        "                        print('While copying the parameter named {}, whose dimensions in the model are'\n",
        "                              ' {} and whose dimensions in the checkpoint are {}, ...'.format(\n",
        "                                  var_name, var_size, restore_size))\n",
        "                        raise\n",
        "\n",
        "        ignored_var_names = sorted(list(set(restore_state_dict.keys()) - restored_var_names))\n",
        "        unset_var_names = sorted(list(set(net_state_dict.keys()) - restored_var_names))\n",
        "        print('')\n",
        "        if len(ignored_var_names) == 0:\n",
        "            print('Restored all variables')\n",
        "        else:\n",
        "            print('Did not restore:\\n\\t' + '\\n\\t'.join(ignored_var_names))\n",
        "        if len(unset_var_names) == 0:\n",
        "            print('No new variables')\n",
        "        else:\n",
        "            print('Initialized but did not modify:\\n\\t' + '\\n\\t'.join(unset_var_names))\n",
        "\n",
        "        print('Restored %s' % save_file)\n",
        "        \n",
        "    @staticmethod\n",
        "    def restore_latest(net, folder):\n",
        "        import glob\n",
        "        import re\n",
        "        checkpoints = sorted(glob.glob(folder + '/*.pt'), key=os.path.getmtime)\n",
        "        start_it = 0\n",
        "        if len(checkpoints) > 0:\n",
        "            pt_util.restore(net, checkpoints[-1])\n",
        "            start_it = int(re.findall(r'\\d+', checkpoints[-1])[-1])\n",
        "        return start_it\n",
        "\n",
        "    @staticmethod\n",
        "    def save(net, file_name, num_to_keep=1):\n",
        "        folder = os.path.dirname(file_name)\n",
        "        if not os.path.exists(folder):\n",
        "            os.makedirs(folder)\n",
        "        torch.save(net.state_dict(), file_name)\n",
        "        import glob\n",
        "        extension = os.path.splitext(file_name)[1]\n",
        "        checkpoints = sorted(glob.glob(folder + '/*' + extension), key=os.path.getmtime)\n",
        "        print('Saved %s\\n' % file_name)\n",
        "        if num_to_keep > 0:\n",
        "            for ff in checkpoints[:-num_to_keep]:\n",
        "                os.remove(ff)\n"
      ],
      "execution_count": 0,
      "outputs": []
    },
    {
      "metadata": {
        "id": "u486U-pUJnDY",
        "colab_type": "text"
      },
      "cell_type": "markdown",
      "source": [
        "# Part 1: Implementing a network for MNIST"
      ]
    },
    {
      "metadata": {
        "id": "0oKKR9EsoK9G",
        "colab_type": "code",
        "colab": {}
      },
      "cell_type": "code",
      "source": [
        "# This is where you define your network architecture.\n",
        "# Note: The TAs know this follows the PyTorch MNIST tutorial available at \n",
        "# https://github.com/pytorch/examples/blob/master/mnist/main.py\n",
        "# Where do you think we got it from? \n",
        "# So we are asking you to implement something slightly different. \n",
        "# You can use that as a guide, but make sure you understand what it all does.\n",
        "\n",
        "\n",
        "import torch.nn.functional as F\n",
        "import torch.optim as optim\n",
        "from torchvision import datasets, transforms\n",
        "class MNISTNet(nn.Module):\n",
        "    def __init__(self):\n",
        "        super(MNISTNet, self).__init__()\n",
        "        # The network should be as follows:\n",
        "        # One fully connected layer with 1024 outputs.\n",
        "        # One fully connected layer with 512 outputs.\n",
        "        # Then the final classification layer.\n",
        "        # All the nonlinearities should be ReLU.\n",
        "        # These instructions are vague on purpose.\n",
        "        # raise NotImplementedError('Define the layers here')\n",
        "        # YSS DONE!\n",
        "        self.fc1 = nn.Linear(28 * 28, 1024)\n",
        "        self.fc2 = nn.Linear(1024, 512)\n",
        "        self.fc3 = nn.Linear(512, 10)\n",
        "        \n",
        "\n",
        "    def forward(self, x):\n",
        "        # raise NotImplementedError('Define the forward pass')\n",
        "        # YSS DONE!\n",
        "        x = x.view(-1, 28 * 28)\n",
        "        x = F.relu(self.fc1(x))\n",
        "        x = F.relu(self.fc2(x))\n",
        "        x = self.fc3(x)\n",
        "        return F.log_softmax(x, dim=1)\n",
        "      \n",
        "    def save_model(self, file_path, num_to_keep=1):\n",
        "        pt_util.save(self, file_path, num_to_keep)\n",
        "        \n",
        "    def loss(self, prediction, label, reduction='elementwise_mean'):\n",
        "        # You should also use the cross_entropy loss rather than the NLL (negative log likelihood) loss.\n",
        "        # raise NotImplementedError('Define the loss here')\n",
        "        # YSS DONE!\n",
        "        # loss = nn.CrossEntropyLoss()\n",
        "        # return loss(prediction, label, reduction=reduction)\n",
        "        return F.cross_entropy(prediction, label, reduction=reduction)\n",
        "\n",
        "    def load_model(self, file_path):\n",
        "        pt_util.restore(self, file_path)\n",
        "\n",
        "    def load_last_model(self, dir_path):\n",
        "        return pt_util.restore_latest(self, dir_path)\n",
        "\n",
        "\n",
        "def train(model, device, train_loader, optimizer, epoch, log_interval):\n",
        "    model.train()\n",
        "    for batch_idx, (data, label) in enumerate(train_loader):\n",
        "        data, label = data.to(device), label.to(device)\n",
        "        optimizer.zero_grad()\n",
        "        \n",
        "        # raise NotImplementedError('Define the forward pass and loss here')\n",
        "        # YSS DONE!\n",
        "        prediction = model(data)\n",
        "        loss = model.loss(prediction, label)\n",
        "        loss.backward()\n",
        "        \n",
        "        optimizer.step()\n",
        "        if batch_idx % log_interval == 0:\n",
        "            print('Train Epoch: {} [{}/{} ({:.0f}%)]\\tLoss: {:.6f}'.format(\n",
        "                epoch, batch_idx * len(data), len(train_loader.dataset),\n",
        "                100. * batch_idx / len(train_loader), loss.item()))\n",
        "\n",
        "def test(model, device, test_loader):\n",
        "    model.eval()\n",
        "    test_loss = 0\n",
        "    correct = 0\n",
        "    with torch.no_grad():\n",
        "        for data, label in test_loader:\n",
        "            data, label = data.to(device), label.to(device)\n",
        "            output = model(data)\n",
        "            # YSS DONE!\n",
        "            test_loss += model.loss(output, label, reduction='sum') # sum up batch loss\n",
        "            pred = output.max(1, keepdim=True)[1] # get the index of the max log-probability\n",
        "            correct += pred.eq(label.view_as(pred)).sum().item()\n",
        "\n",
        "    test_loss /= len(test_loader.dataset)\n",
        "    print('\\nTest set: Average loss: {:.4f}, Accuracy: {}/{} ({:.0f}%)\\n'.format(\n",
        "        test_loss, correct, len(test_loader.dataset),\n",
        "        100. * correct / len(test_loader.dataset)))"
      ],
      "execution_count": 0,
      "outputs": []
    },
    {
      "metadata": {
        "id": "pNf3AoHVvKXI",
        "colab_type": "code",
        "colab": {}
      },
      "cell_type": "code",
      "source": [
        "# Play around with these constants, you may find a better setting.\n",
        "BATCH_SIZE = 256\n",
        "TEST_BATCH_SIZE = 1000\n",
        "EPOCHS = 10\n",
        "LEARNING_RATE = 0.01\n",
        "MOMENTUM = 0.5\n",
        "USE_CUDA = True\n",
        "SEED = 0\n",
        "LOG_INTERVAL = 100"
      ],
      "execution_count": 0,
      "outputs": []
    },
    {
      "metadata": {
        "id": "50zDbqjXu_Qq",
        "colab_type": "code",
        "outputId": "55f8be3e-4f9d-4cb8-d0ad-84ee9cc2ac1d",
        "colab": {
          "base_uri": "https://localhost:8080/",
          "height": 510
        }
      },
      "cell_type": "code",
      "source": [
        "# Now the actual training code\n",
        "use_cuda = USE_CUDA and torch.cuda.is_available()\n",
        "\n",
        "torch.manual_seed(SEED)\n",
        "\n",
        "device = torch.device(\"cuda\" if use_cuda else \"cpu\")\n",
        "print('Using device', device)\n",
        "import multiprocessing\n",
        "print('num cpus:', multiprocessing.cpu_count())\n",
        "\n",
        "kwargs = {'num_workers': multiprocessing.cpu_count(),\n",
        "          'pin_memory': True} if use_cuda else {}\n",
        "train_loader = torch.utils.data.DataLoader(\n",
        "    datasets.MNIST('../data', train=True, download=True,\n",
        "                   transform=transforms.Compose([\n",
        "                       transforms.ToTensor(),\n",
        "                       transforms.Normalize((0.1307,), (0.3081,))\n",
        "                   ])),\n",
        "    batch_size=BATCH_SIZE, shuffle=True, **kwargs)\n",
        "test_loader = torch.utils.data.DataLoader(\n",
        "    datasets.MNIST('../data', train=False, transform=transforms.Compose([\n",
        "                       transforms.ToTensor(),\n",
        "                       transforms.Normalize((0.1307,), (0.3081,))\n",
        "                   ])),\n",
        "    batch_size=TEST_BATCH_SIZE, **kwargs)\n",
        "\n",
        "\n",
        "model = MNISTNet().to(device)\n",
        "optimizer = optim.SGD(model.parameters(), lr=LEARNING_RATE, momentum=MOMENTUM)\n",
        "# This will save checkpoints in your Google Drive account.\n",
        "start_epoch = model.load_last_model('/gdrive/My Drive/colab_files/homework1/mnist/checkpoints')\n",
        "try:\n",
        "    for epoch in range(start_epoch, EPOCHS + 1):\n",
        "        train(model, device, train_loader, optimizer, epoch, LOG_INTERVAL)\n",
        "        test(model, device, test_loader)\n",
        "        model.save_model('/gdrive/My Drive/colab_files/homework1/mnist/checkpoints/%03d.pt' % epoch)\n",
        "except KeyboardInterrupt as ke:\n",
        "    print('Interrupted')\n",
        "except:\n",
        "    import traceback\n",
        "    traceback.print_exc()\n",
        "finally:\n",
        "    model.save_model('/gdrive/My Drive/colab_files/homework1/mnist/checkpoints/%03d.pt' % epoch)\n",
        "        "
      ],
      "execution_count": 7,
      "outputs": [
        {
          "output_type": "stream",
          "text": [
            "Using device cuda\n",
            "num cpus: 2\n",
            "Downloading http://yann.lecun.com/exdb/mnist/train-images-idx3-ubyte.gz\n",
            "Downloading http://yann.lecun.com/exdb/mnist/train-labels-idx1-ubyte.gz\n",
            "Downloading http://yann.lecun.com/exdb/mnist/t10k-images-idx3-ubyte.gz\n",
            "Downloading http://yann.lecun.com/exdb/mnist/t10k-labels-idx1-ubyte.gz\n",
            "Processing...\n",
            "Done!\n",
            "Restoring:\n",
            "fc1.weight -> \ttorch.Size([1024, 784]) = 3MB\n",
            "fc1.bias -> \ttorch.Size([1024]) = 0MB\n",
            "fc2.weight -> \ttorch.Size([512, 1024]) = 2MB\n",
            "fc2.bias -> \ttorch.Size([512]) = 0MB\n",
            "fc3.weight -> \ttorch.Size([10, 512]) = 0MB\n",
            "fc3.bias -> \ttorch.Size([10]) = 0MB\n",
            "\n",
            "Restored all variables\n",
            "No new variables\n",
            "Restored /gdrive/My Drive/colab_files/homework1/mnist/checkpoints/010.pt\n",
            "Train Epoch: 10 [0/60000 (0%)]\tLoss: 0.096307\n",
            "Train Epoch: 10 [25600/60000 (43%)]\tLoss: 0.152622\n",
            "Train Epoch: 10 [51200/60000 (85%)]\tLoss: 0.106535\n",
            "\n",
            "Test set: Average loss: 0.1262, Accuracy: 9626/10000 (96%)\n",
            "\n",
            "Saved /gdrive/My Drive/colab_files/homework1/mnist/checkpoints/010.pt\n",
            "\n",
            "Saved /gdrive/My Drive/colab_files/homework1/mnist/checkpoints/010.pt\n",
            "\n"
          ],
          "name": "stdout"
        }
      ]
    },
    {
      "metadata": {
        "id": "bBHdoWQZkaZD",
        "colab_type": "text"
      },
      "cell_type": "markdown",
      "source": [
        "# Part 2: Reimplementing the Cross Entropy loss function."
      ]
    },
    {
      "metadata": {
        "id": "wg8_YkUxk1QB",
        "colab_type": "code",
        "colab": {}
      },
      "cell_type": "code",
      "source": [
        "import numpy as np\n",
        "class MNISTNetNewLoss(MNISTNet):\n",
        "  \n",
        "    def loss(self, prediction, label, reduction='elementwise_mean'): \n",
        "        # Reimplement the Cross Entropy loss function using mathematical primitives.\n",
        "        # This means you are not allowed to use any function in the \"Loss functions\" \n",
        "        # section of https://pytorch.org/docs/stable/nn.html#id50 nor the \n",
        "        # functional versions. You can use them to verify that your output looks correct.\n",
        "        # You should implement reduction for none (i.e. return a vector, sum, and elementwise_mean).\n",
        "        # Note: Due to floating point errors, the values won't be exactly equal.\n",
        "        # Second note: You can assume inputs will be 2D (batch X features).\n",
        "        loss_val_old = super(MNISTNetNewLoss, self).loss(prediction, label, reduction)        \n",
        "        \n",
        "        # raise NotImplementedError('Define the loss here')\n",
        "        # YSS DONE!\n",
        "        # element-wise exponential of each element of the batch X C prediction matrix (C is the number of classes)\n",
        "        sigma = torch.exp(prediction)\n",
        "        # sum over each row\n",
        "        sigma = torch.sum(sigma, dim = 1)\n",
        "        # logarithm of each item after the sum\n",
        "        logsigma = torch.log(sigma)\n",
        "        # negative value of column-wise subtraction of log column from the batch X C prediction matrix\n",
        "        loss = - (prediction - logsigma.resize(logsigma.size()[0], 1).repeat([1, prediction.size()[1]]))\n",
        "        # multiplication of the matrix from above to label (assuming label is one-hot endoded column vector)\n",
        "        loss_val_new = torch.gather(loss, 1, label.view(-1, 1))\n",
        "        \n",
        "        if reduction == 'sum':\n",
        "          loss_val_new = loss_val_new.sum()\n",
        "        elif reduction == 'elementwise_mean':\n",
        "          loss_val_new = loss_val_new.sum()\n",
        "          loss_val_new = loss_val_new / label.size(0)\n",
        "        \n",
        "        assert(abs(loss_val_new - loss_val_old).item() < 0.01)\n",
        "        \n",
        "        return loss_val_new\n",
        "\n",
        "        "
      ],
      "execution_count": 0,
      "outputs": []
    },
    {
      "metadata": {
        "id": "MIKHYa71mD79",
        "colab_type": "code",
        "outputId": "b602d916-ff7f-4eb4-f437-1a0ff1b2946f",
        "colab": {
          "base_uri": "https://localhost:8080/",
          "height": 442
        }
      },
      "cell_type": "code",
      "source": [
        "# Now the actual training code\n",
        "use_cuda = USE_CUDA and torch.cuda.is_available()\n",
        "\n",
        "torch.manual_seed(SEED)\n",
        "\n",
        "device = torch.device(\"cuda\" if use_cuda else \"cpu\")\n",
        "print('Using device', device)\n",
        "import multiprocessing\n",
        "print('num cpus:', multiprocessing.cpu_count())\n",
        "\n",
        "kwargs = {'num_workers': multiprocessing.cpu_count(),\n",
        "          'pin_memory': True} if use_cuda else {}\n",
        "train_loader = torch.utils.data.DataLoader(\n",
        "    datasets.MNIST('../data', train=True, download=True,\n",
        "                   transform=transforms.Compose([\n",
        "                       transforms.ToTensor(),\n",
        "                       transforms.Normalize((0.1307,), (0.3081,))\n",
        "                   ])),\n",
        "    batch_size=BATCH_SIZE, shuffle=True, **kwargs)\n",
        "test_loader = torch.utils.data.DataLoader(\n",
        "    datasets.MNIST('../data', train=False, transform=transforms.Compose([\n",
        "                       transforms.ToTensor(),\n",
        "                       transforms.Normalize((0.1307,), (0.3081,))\n",
        "                   ])),\n",
        "    batch_size=TEST_BATCH_SIZE, **kwargs)\n",
        "\n",
        "\n",
        "model = MNISTNetNewLoss().to(device)\n",
        "optimizer = optim.SGD(model.parameters(), lr=LEARNING_RATE, momentum=MOMENTUM)\n",
        "start_epoch = model.load_last_model('/gdrive/My Drive/colab_files/homework1/mnist2/checkpoints')\n",
        "try:\n",
        "    for epoch in range(start_epoch, EPOCHS + 1):\n",
        "        train(model, device, train_loader, optimizer, epoch, LOG_INTERVAL)\n",
        "        test(model, device, test_loader)\n",
        "        model.save_model('/gdrive/My Drive/colab_files/homework1/mnist2/checkpoints/%03d.pt' % epoch)\n",
        "except KeyboardInterrupt as ke:\n",
        "    print('Interrupted')\n",
        "except:\n",
        "    import traceback\n",
        "    traceback.print_exc()\n",
        "finally:\n",
        "    model.save_model('/gdrive/My Drive/colab_files/homework1/mnist2/checkpoints/%03d.pt' % epoch)"
      ],
      "execution_count": 9,
      "outputs": [
        {
          "output_type": "stream",
          "text": [
            "Using device cuda\n",
            "num cpus: 2\n",
            "Restoring:\n",
            "fc1.weight -> \ttorch.Size([1024, 784]) = 3MB\n",
            "fc1.bias -> \ttorch.Size([1024]) = 0MB\n",
            "fc2.weight -> \ttorch.Size([512, 1024]) = 2MB\n",
            "fc2.bias -> \ttorch.Size([512]) = 0MB\n",
            "fc3.weight -> \ttorch.Size([10, 512]) = 0MB\n",
            "fc3.bias -> \ttorch.Size([10]) = 0MB\n",
            "\n",
            "Restored all variables\n",
            "No new variables\n",
            "Restored /gdrive/My Drive/colab_files/homework1/mnist2/checkpoints/010.pt\n",
            "Train Epoch: 10 [0/60000 (0%)]\tLoss: 0.103053\n"
          ],
          "name": "stdout"
        },
        {
          "output_type": "stream",
          "text": [
            "/usr/local/lib/python3.6/dist-packages/torch/tensor.py:263: UserWarning: non-inplace resize is deprecated\n",
            "  warnings.warn(\"non-inplace resize is deprecated\")\n"
          ],
          "name": "stderr"
        },
        {
          "output_type": "stream",
          "text": [
            "Train Epoch: 10 [25600/60000 (43%)]\tLoss: 0.160092\n",
            "Train Epoch: 10 [51200/60000 (85%)]\tLoss: 0.113547\n",
            "\n",
            "Test set: Average loss: 0.1323, Accuracy: 9610/10000 (96%)\n",
            "\n",
            "Saved /gdrive/My Drive/colab_files/homework1/mnist2/checkpoints/010.pt\n",
            "\n",
            "Saved /gdrive/My Drive/colab_files/homework1/mnist2/checkpoints/010.pt\n",
            "\n"
          ],
          "name": "stdout"
        }
      ]
    }
  ]
}